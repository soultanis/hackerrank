{
 "cells": [
  {
   "cell_type": "markdown",
   "metadata": {},
   "source": [
    "# A Very Big Sum\n",
    "## Task\n",
    "Calculate and print the sum of the elements in an array, keeping in mind that some of those integers may be quite large.\n",
    "The first line of the input consists of an integer $n$. \n",
    "The next line contains $n$ space-separated integers contained in the array.\n",
    "\n",
    "## Output Format\n",
    "Print the integer sum of the elements in the array."
   ]
  },
  {
   "cell_type": "code",
   "execution_count": 8,
   "metadata": {},
   "outputs": [
    {
     "name": "stdin",
     "output_type": "stream",
     "text": [
      " 5\n",
      " 1000000001 1000000002 1000000003 1000000004 1000000005\n"
     ]
    },
    {
     "name": "stdout",
     "output_type": "stream",
     "text": [
      "5000000015\n"
     ]
    }
   ],
   "source": [
    "import math\n",
    "import os\n",
    "import random\n",
    "import re\n",
    "import sys\n",
    "\n",
    "def aVeryBigSum():\n",
    "    bigSum = 0\n",
    "    for i in range(ar_count):\n",
    "        bigSum += ar[i]\n",
    "    return bigSum\n",
    "\n",
    "if __name__ == '__main__':\n",
    "    ar_count = int(input())\n",
    "    ar = list(map(int, input().rstrip().split()))\n",
    "    print(aVeryBigSum())"
   ]
  },
  {
   "cell_type": "code",
   "execution_count": null,
   "metadata": {},
   "outputs": [],
   "source": []
  }
 ],
 "metadata": {
  "kernelspec": {
   "display_name": "Python 3",
   "language": "python",
   "name": "python3"
  },
  "language_info": {
   "codemirror_mode": {
    "name": "ipython",
    "version": 3
   },
   "file_extension": ".py",
   "mimetype": "text/x-python",
   "name": "python",
   "nbconvert_exporter": "python",
   "pygments_lexer": "ipython3",
   "version": "3.7.0"
  }
 },
 "nbformat": 4,
 "nbformat_minor": 2
}
