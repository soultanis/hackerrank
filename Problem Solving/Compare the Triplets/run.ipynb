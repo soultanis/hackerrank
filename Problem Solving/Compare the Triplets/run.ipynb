{
 "cells": [
  {
   "cell_type": "markdown",
   "metadata": {},
   "source": [
    "# Compare the Triplets\n",
    "## Task\n",
    "Alice and Bob each created one problem for HackerRank. A reviewer rates the two challenges, awarding points on a scale from $1$ to $100$ for three categories: problem clarity, originality, and difficulty. We define the rating for Alice's challenge to be the triplet $a = (a[0],a[1],a[2])$ and the rating for Bob's challenge to be the triplet $b = (b[0],b[1],b[2])$. Your task is to find their comparison points by comparing $a[i]$ with $b[i]$ for $i = 0,1,2$.\n",
    "\n",
    "- If a[i]>b[i], then Alice is awarded $1$ point.\n",
    "- If a[i]<b[i], then Bob is awarded $1$ point.\n",
    "- If a[i]=b[i], then neither person receives a point.\n",
    "\n",
    "Comparison points is the total points a person earned.\n",
    "\n",
    "## Output Format\n",
    "Return an array of two integers denoting the respective comparison points earned by Alice and Bob."
   ]
  },
  {
   "cell_type": "code",
   "execution_count": 15,
   "metadata": {},
   "outputs": [],
   "source": [
    "# import math\n",
    "import os\n",
    "import random\n",
    "import re\n",
    "import sys\n",
    "\n",
    "def compareTriplets(a, b):\n",
    "    array = [0,0]\n",
    "    for i in range(3):\n",
    "        if a[i]>b[i]:\n",
    "            array[0] += 1\n",
    "        elif a[i]<b[i]:\n",
    "            array[1] += 1\n",
    "    return array\n",
    "\n",
    "if __name__ == '__main__':\n",
    "    a = list(map(int, input().rstrip().split()))\n",
    "    b = list(map(int, input().rstrip().split()))\n",
    "    print(compareTriplets(a, b))"
   ]
  }
 ],
 "metadata": {
  "kernelspec": {
   "display_name": "Python 3",
   "language": "python",
   "name": "python3"
  },
  "language_info": {
   "codemirror_mode": {
    "name": "ipython",
    "version": 3
   },
   "file_extension": ".py",
   "mimetype": "text/x-python",
   "name": "python",
   "nbconvert_exporter": "python",
   "pygments_lexer": "ipython3",
   "version": "3.7.0"
  }
 },
 "nbformat": 4,
 "nbformat_minor": 2
}
