{
 "cells": [
  {
   "cell_type": "markdown",
   "metadata": {},
   "source": [
    "# Day 0: Data Types\n",
    "\n",
    "## Task\n",
    "\n",
    "## Output Format"
   ]
  },
  {
   "cell_type": "code",
   "execution_count": 1,
   "metadata": {},
   "outputs": [
    {
     "ename": "SyntaxError",
     "evalue": "invalid syntax (<ipython-input-1-7b7efb855e2d>, line 6)",
     "output_type": "error",
     "traceback": [
      "\u001b[1;36m  File \u001b[1;32m\"<ipython-input-1-7b7efb855e2d>\"\u001b[1;36m, line \u001b[1;32m6\u001b[0m\n\u001b[1;33m    let inputString = '';\u001b[0m\n\u001b[1;37m                  ^\u001b[0m\n\u001b[1;31mSyntaxError\u001b[0m\u001b[1;31m:\u001b[0m invalid syntax\n"
     ]
    }
   ],
   "source": [
    "'use strict';\n",
    "\n",
    "process.stdin.resume();\n",
    "process.stdin.setEncoding('utf-8');\n",
    "\n",
    "let inputString = '';\n",
    "let currentLine = 0;\n",
    "\n",
    "process.stdin.on('data', inputStdin => {\n",
    "    inputString += inputStdin;\n",
    "});\n",
    "\n",
    "process.stdin.on('end', _ => {\n",
    "    inputString = inputString.trim().split('\\n').map(string => {\n",
    "        return string.trim();\n",
    "    });\n",
    "    \n",
    "    main();    \n",
    "});\n",
    "\n",
    "function readLine() {\n",
    "    return inputString[currentLine++];\n",
    "}\n",
    "\n",
    "/**\n",
    "*   The variables 'firstInteger', 'firstDecimal', and 'firstString' are declared for you -- do not modify them.\n",
    "*   Print three lines:\n",
    "*   1. The sum of 'firstInteger' and the Number representation of 'secondInteger'.\n",
    "*   2. The sum of 'firstDecimal' and the Number representation of 'secondDecimal'.\n",
    "*   3. The concatenation of 'firstString' and 'secondString' ('firstString' must be first).\n",
    "*\n",
    "*\tParameter(s):\n",
    "*   secondInteger - The string representation of an integer.\n",
    "*   secondDecimal - The string representation of a floating-point number.\n",
    "*   secondString - A string consisting of one or more space-separated words.\n",
    "**/\n",
    "function performOperation(secondInteger, secondDecimal, secondString) {\n",
    "    // Declare a variable named 'firstInteger' and initialize with integer value 4.\n",
    "    const firstInteger = 4;\n",
    "    \n",
    "    // Declare a variable named 'firstDecimal' and initialize with floating-point value 4.0.\n",
    "    const firstDecimal = 4.0;\n",
    "    \n",
    "    // Declare a variable named 'firstString' and initialize with the string \"HackerRank\".\n",
    "    const firstString = 'HackerRank ';\n",
    "    \n",
    "    // Write code that uses console.log to print the sum of the 'firstInteger' and 'secondInteger' (converted to a Number        type) on a new line.\n",
    "    console.log(Number(secondInteger) + firstInteger);\n",
    "    \n",
    "    // Write code that uses console.log to print the sum of 'firstDecimal' and 'secondDecimal' (converted to a Number            type) on a new line.\n",
    "    console.log(Number(secondDecimal) + firstDecimal);\n",
    "    \n",
    "    // Write code that uses console.log to print the concatenation of 'firstString' and 'secondString' on a new line. The        variable 'firstString' must be printed first.\n",
    "    console.log(firstString + secondString);\n",
    "}\n",
    "\n",
    "\n",
    "function main() {\n",
    "    const secondInteger = readLine();\n",
    "    const secondDecimal = readLine();\n",
    "    const secondString = readLine();\n",
    "    \n",
    "    performOperation(secondInteger, secondDecimal, secondString);\n",
    "}"
   ]
  }
 ],
 "metadata": {
  "kernelspec": {
   "display_name": "Python 3",
   "language": "python",
   "name": "python3"
  },
  "language_info": {
   "codemirror_mode": {
    "name": "ipython",
    "version": 3
   },
   "file_extension": ".py",
   "mimetype": "text/x-python",
   "name": "python",
   "nbconvert_exporter": "python",
   "pygments_lexer": "ipython3",
   "version": "3.7.0"
  }
 },
 "nbformat": 4,
 "nbformat_minor": 2
}
