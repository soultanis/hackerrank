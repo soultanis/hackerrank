{
 "cells": [
  {
   "cell_type": "markdown",
   "metadata": {},
   "source": [
    "# Day 0: Hello, World!\n",
    "\n",
    "## Task\n",
    "A greeting function is provided for you in the editor below. It has one parameter, $parameterVariable$. Perform the following tasks to complete this challenge:\n",
    "1. Use ```console.log()``` to print ```Hello, World!``` on a new line in the console, which is also known as stdout or standard output. The code for this portion of the task is already provided in the editor.\n",
    "2. Use ```console.log()``` to print the contents of $parameterVariable$ (i.e., the argument passed to main).\n",
    "\n",
    "## Output Format\n",
    "Print the following two lines of output:\n",
    "1. On the first line, print ```Hello, World!``` (this is provided for you in the editor).\n",
    "2. On the second line, print the contents of $parameterVariable$."
   ]
  },
  {
   "cell_type": "code",
   "execution_count": 1,
   "metadata": {},
   "outputs": [
    {
     "ename": "SyntaxError",
     "evalue": "invalid syntax (<ipython-input-1-7b7efb855e2d>, line 6)",
     "output_type": "error",
     "traceback": [
      "\u001b[1;36m  File \u001b[1;32m\"<ipython-input-1-7b7efb855e2d>\"\u001b[1;36m, line \u001b[1;32m6\u001b[0m\n\u001b[1;33m    let inputString = '';\u001b[0m\n\u001b[1;37m                  ^\u001b[0m\n\u001b[1;31mSyntaxError\u001b[0m\u001b[1;31m:\u001b[0m invalid syntax\n"
     ]
    }
   ],
   "source": [
    "'use strict';\n",
    "\n",
    "process.stdin.resume();\n",
    "process.stdin.setEncoding('utf-8');\n",
    "\n",
    "let inputString = '';\n",
    "let currentLine = 0;\n",
    "\n",
    "process.stdin.on('data', inputStdin => {\n",
    "    inputString += inputStdin;\n",
    "});\n",
    "\n",
    "process.stdin.on('end', _ => {\n",
    "    inputString = inputString.trim().split('\\n').map(string => {\n",
    "        return string.trim();\n",
    "    });\n",
    "    \n",
    "    main();    \n",
    "});\n",
    "\n",
    "function readLine() {\n",
    "    return inputString[currentLine++];\n",
    "}\n",
    "\n",
    "/**\n",
    "*   A line of code that prints \"Hello, World!\" on a new line is provided in the editor. \n",
    "*   Write a second line of code that prints the contents of 'parameterVariable' on a new line.\n",
    "*\n",
    "*\tParameter:\n",
    "*   parameterVariable - A string of text.\n",
    "**/\n",
    "function greeting(parameterVariable) {\n",
    "    // This line prints 'Hello, World!' to the console:\n",
    "    console.log('Hello, World!');\n",
    "\n",
    "    // Write a line of code that prints parameterVariable to stdout using console.log:\n",
    "    console.log(parameterVariable)\n",
    "}\n",
    "\n",
    "function main() {\n",
    "    const parameterVariable = readLine();\n",
    "    \n",
    "    greeting(parameterVariable);\n",
    "}"
   ]
  }
 ],
 "metadata": {
  "kernelspec": {
   "display_name": "Python 3",
   "language": "python",
   "name": "python3"
  },
  "language_info": {
   "codemirror_mode": {
    "name": "ipython",
    "version": 3
   },
   "file_extension": ".py",
   "mimetype": "text/x-python",
   "name": "python",
   "nbconvert_exporter": "python",
   "pygments_lexer": "ipython3",
   "version": "3.7.0"
  }
 },
 "nbformat": 4,
 "nbformat_minor": 2
}
