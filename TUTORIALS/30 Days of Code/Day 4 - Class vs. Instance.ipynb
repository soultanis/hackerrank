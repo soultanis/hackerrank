{
 "cells": [
  {
   "cell_type": "markdown",
   "metadata": {},
   "source": [
    "# Day 4: Class vs. Instance\n",
    "\n",
    "## Task\n",
    "\n",
    "## Output Format"
   ]
  },
  {
   "cell_type": "code",
   "execution_count": null,
   "metadata": {},
   "outputs": [],
   "source": [
    "import java.io.*;\n",
    "import java.util.*;\n",
    "\n",
    "public class Person {\n",
    "    private int age;\t\n",
    "  \n",
    "\tpublic Person(int initialAge) {\n",
    "  \t\t// Add some more code to run some checks on initialAge\n",
    "          if (initialAge < 0){\n",
    "              age = 0;\n",
    "              System.out.println(\"Age is not valid, setting age to 0.\");\n",
    "          }\n",
    "          else{\n",
    "              age = initialAge;\n",
    "          }\n",
    "\t}\n",
    "\n",
    "\tpublic void amIOld() {\n",
    "  \t\t// Write code determining if this person's age is old and print the correct statement:\n",
    "          String howOld;\n",
    "          if(age < 13){\n",
    "              howOld = \"You are young.\";\n",
    "          }\n",
    "          else if(age >= 13 && age < 18){\n",
    "              howOld = \"You are a teenager.\";\n",
    "          }\n",
    "          else{\n",
    "              howOld = \"You are old.\";\n",
    "          }\n",
    "        System.out.println(howOld);\n",
    "\t}\n",
    "\n",
    "\tpublic void yearPasses() {\n",
    "  \t\t// Increment this person's age.\n",
    "          age += 1;\n",
    "\t}\n",
    "\n",
    "\tpublic static void main(String[] args) {\n",
    "\t\tScanner sc = new Scanner(System.in);\n",
    "\t\tint T = sc.nextInt();\n",
    "\t\tfor (int i = 0; i < T; i++) {\n",
    "\t\t\tint age = sc.nextInt();\n",
    "\t\t\tPerson p = new Person(age);\n",
    "\t\t\tp.amIOld();\n",
    "\t\t\tfor (int j = 0; j < 3; j++) {\n",
    "\t\t\t\tp.yearPasses();\n",
    "\t\t\t}\n",
    "\t\t\tp.amIOld();\n",
    "\t\t\tSystem.out.println();\n",
    "        }\n",
    "\t\tsc.close();\n",
    "    }\n",
    "}"
   ]
  }
 ],
 "metadata": {
  "kernelspec": {
   "display_name": "Python 3",
   "language": "python",
   "name": "python3"
  },
  "language_info": {
   "codemirror_mode": {
    "name": "ipython",
    "version": 3
   },
   "file_extension": ".py",
   "mimetype": "text/x-python",
   "name": "python",
   "nbconvert_exporter": "python",
   "pygments_lexer": "ipython3",
   "version": "3.7.2"
  }
 },
 "nbformat": 4,
 "nbformat_minor": 2
}
