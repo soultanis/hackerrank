{
 "cells": [
  {
   "cell_type": "markdown",
   "metadata": {},
   "source": [
    "# Day 3: Intro to Conditional Statements\n",
    "\n",
    "## Task\n",
    "\n",
    "## Output Format"
   ]
  },
  {
   "cell_type": "code",
   "execution_count": null,
   "metadata": {},
   "outputs": [],
   "source": [
    "import java.io.*;\n",
    "import java.math.*;\n",
    "import java.security.*;\n",
    "import java.text.*;\n",
    "import java.util.*;\n",
    "import java.util.concurrent.*;\n",
    "import java.util.regex.*;\n",
    "\n",
    "public class Solution {\n",
    "\n",
    "\n",
    "\n",
    "    private static final Scanner scanner = new Scanner(System.in);\n",
    "\n",
    "    public static void main(String[] args) {\n",
    "        int N = scanner.nextInt();\n",
    "        scanner.skip(\"(\\r\\n|[\\n\\r\\u2028\\u2029\\u0085])?\");\n",
    "        System.out.println(getWeirdness(N));\n",
    "        scanner.close();\n",
    "    }\n",
    "\n",
    "    public static String getWeirdness(int N){\n",
    "        String s;\n",
    "        if(N%2 == 1){\n",
    "            s = \"Weird\";\n",
    "        }\n",
    "        else if(N>=6 && N<=20){\n",
    "            s = \"Weird\";\n",
    "        }\n",
    "        else{\n",
    "            s = \"Not Weird\";\n",
    "        }\n",
    "        return s;\n",
    "    }\n",
    "}"
   ]
  }
 ],
 "metadata": {
  "kernelspec": {
   "display_name": "Python 3",
   "language": "python",
   "name": "python3"
  },
  "language_info": {
   "codemirror_mode": {
    "name": "ipython",
    "version": 3
   },
   "file_extension": ".py",
   "mimetype": "text/x-python",
   "name": "python",
   "nbconvert_exporter": "python",
   "pygments_lexer": "ipython3",
   "version": "3.7.2"
  }
 },
 "nbformat": 4,
 "nbformat_minor": 2
}
