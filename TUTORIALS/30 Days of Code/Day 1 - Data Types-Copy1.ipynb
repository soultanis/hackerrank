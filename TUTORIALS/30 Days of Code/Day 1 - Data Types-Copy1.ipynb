{
 "cells": [
  {
   "cell_type": "markdown",
   "metadata": {},
   "source": [
    "# Day 1: Data Types\n",
    "\n",
    "## Task\n",
    "Complete the code in the editor below. The variables $i$, $d$, $s$ and  are already declared and initialized for you. You must:\n",
    "\n",
    "- Declare $3$ variables: one of type int, one of type double, and one of type String. \n",
    "- Read $3$ lines of input from stdin (according to the sequence given in the Input Format section below) and initialize your $3$ variables.\n",
    "- Use the $+$ operator to perform the following operations: \n",
    "    1. Print the sum of $i$ plus your int variable on a new line.\n",
    "    2. Print the sum of $d$ plus your double variable to a scale of one decimal place on a new line.\n",
    "    3. Concatenate $s$ with the string you read as input and print the result on a new line.\n",
    "\n",
    "## Output Format\n",
    "Print the sum of both integers on the first line, the sum of both doubles (scaled to $1$ decimal place) on the second line, and then the two concatenated strings on the third line."
   ]
  },
  {
   "cell_type": "code",
   "execution_count": 1,
   "metadata": {},
   "outputs": [
    {
     "name": "stdin",
     "output_type": "stream",
     "text": [
      " 3\n",
      " 4.12\n",
      " sci\n"
     ]
    },
    {
     "name": "stdout",
     "output_type": "stream",
     "text": [
      "7\n",
      "8.120000000000001\n",
      "HackerRank sci\n"
     ]
    }
   ],
   "source": [
    "i = 4\n",
    "d = 4.0\n",
    "s = 'HackerRank '\n",
    "# Declare second integer, double, and String variables.\n",
    "\n",
    "# Read and save an integer, double, and String to your variables.\n",
    "x = int(input())\n",
    "y = float(input())\n",
    "z = input()\n",
    "# Print the sum of both integer variables on a new line.\n",
    "print(i+x)\n",
    "# Print the sum of the double variables on a new line.\n",
    "print(d+y)\n",
    "# Concatenate and print the String variables on a new line\n",
    "# The 's' variable above should be printed first.\n",
    "print(s+z)"
   ]
  }
 ],
 "metadata": {
  "kernelspec": {
   "display_name": "Python 3",
   "language": "python",
   "name": "python3"
  },
  "language_info": {
   "codemirror_mode": {
    "name": "ipython",
    "version": 3
   },
   "file_extension": ".py",
   "mimetype": "text/x-python",
   "name": "python",
   "nbconvert_exporter": "python",
   "pygments_lexer": "ipython3",
   "version": "3.7.2"
  }
 },
 "nbformat": 4,
 "nbformat_minor": 2
}
