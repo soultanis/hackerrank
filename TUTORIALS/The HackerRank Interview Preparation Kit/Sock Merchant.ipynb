{
 "cells": [
  {
   "cell_type": "markdown",
   "metadata": {},
   "source": [
    "# Sock Merchant\n",
    "\n",
    "## Task\n",
    "John works at a clothing store. He has a large pile of socks that he must pair by color for sale. Given an array of integers representing the color of each sock, determine how many pairs of socks with matching colors there are $n=7$ socks with colors $ar = [1,2,1,2,1,3,2]$. There is one pair of color $1$ and one of color $2$. There are three odd socks left, one of each color. The number of pairs is $2$.\n",
    "\n",
    "## Output Format\n",
    "Return the total number of matching pairs of socks that John can sell."
   ]
  },
  {
   "cell_type": "code",
   "execution_count": 39,
   "metadata": {},
   "outputs": [
    {
     "name": "stdin",
     "output_type": "stream",
     "text": [
      " 5\n",
      " 1 1 2 4 2\n"
     ]
    },
    {
     "name": "stdout",
     "output_type": "stream",
     "text": [
      "2\n"
     ]
    }
   ],
   "source": [
    "import math\n",
    "import os\n",
    "import random\n",
    "import re\n",
    "import sys\n",
    "\n",
    "# Complete the sockMerchant function below.\n",
    "def sockMerchant(n, ar):\n",
    "    matchingSocks = 0\n",
    "    while(n>1):\n",
    "        i = 0\n",
    "        x = ar[i]\n",
    "        if (x in ar) == True:\n",
    "            ar.remove(x)\n",
    "            n -= 1\n",
    "            if (x in ar) == True:\n",
    "                ar.remove(x)\n",
    "                matchingSocks += 1\n",
    "                n -=1\n",
    "            else:\n",
    "                i += 1\n",
    "        else:\n",
    "            i += 1\n",
    "    return matchingSocks\n",
    "\n",
    "if __name__ == '__main__':\n",
    "    n = int(input())\n",
    "    ar = list(map(int, input().rstrip().split()))\n",
    "    result = sockMerchant(n, ar)\n",
    "    print(result)"
   ]
  }
 ],
 "metadata": {
  "kernelspec": {
   "display_name": "Python 3",
   "language": "python",
   "name": "python3"
  },
  "language_info": {
   "codemirror_mode": {
    "name": "ipython",
    "version": 3
   },
   "file_extension": ".py",
   "mimetype": "text/x-python",
   "name": "python",
   "nbconvert_exporter": "python",
   "pygments_lexer": "ipython3",
   "version": "3.7.0"
  }
 },
 "nbformat": 4,
 "nbformat_minor": 2
}
