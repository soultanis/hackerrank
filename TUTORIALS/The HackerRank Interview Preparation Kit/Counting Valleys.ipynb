{
 "cells": [
  {
   "cell_type": "markdown",
   "metadata": {},
   "source": [
    "# Counting Valleys\n",
    "\n",
    "## Task\n",
    "Gary is an avid hiker. He tracks his hikes meticulously, paying close attention to small details like topography. During his last hike he took exactly $n$ steps. For every step he took, he noted if it was an uphill, $U$ or a downhill, $D$  step. Gary's hikes start and end at sea level and each step up or down represents a $1$ unit change in altitude. We define the following terms:\n",
    "- A mountain is a sequence of consecutive steps above sea level, starting with a step up from sea level and ending with a step down to sea level.\n",
    "- A valley is a sequence of consecutive steps below sea level, starting with a step down from sea level and ending with a step up to sea level.\n",
    "\n",
    "Given Gary's sequence of up and down steps during his last hike, find and print the number of valleys he walked through. For example, if Gary's path is $s = [DDUUUUDD]$, he first enters a valley $2$ units deep. Then he climbs out an up onto a mountain $2$ units high. Finally, he returns to sea level and ends his hike.\n",
    "\n",
    "## Output Format\n",
    "Print a single integer that denotes the number of valleys Gary walked through during his hike."
   ]
  },
  {
   "cell_type": "code",
   "execution_count": 11,
   "metadata": {},
   "outputs": [
    {
     "name": "stdin",
     "output_type": "stream",
     "text": [
      " 12\n",
      " DDUUDDUDUUUD\n"
     ]
    },
    {
     "name": "stdout",
     "output_type": "stream",
     "text": [
      "2\n"
     ]
    }
   ],
   "source": [
    "#!/bin/python3\n",
    "\n",
    "import math\n",
    "import os\n",
    "import random\n",
    "import re\n",
    "import sys\n",
    "\n",
    "# Complete the countingValleys function below.\n",
    "def countingValleys(n, s):\n",
    "    seaLvl = 0\n",
    "    valleys = 0\n",
    "    downhillStart = False\n",
    "    downhillEnd = False\n",
    "    for i in range(n):\n",
    "        hill = s[i]\n",
    "        if hill == 'D':\n",
    "            if seaLvl == 0:\n",
    "                downhillStart = True\n",
    "            seaLvl -= 1\n",
    "        elif hill == 'U':\n",
    "            if seaLvl == -1:\n",
    "                downhillEnd = True\n",
    "            seaLvl += 1             \n",
    "        if downhillStart == True and downhillEnd == True:\n",
    "            valleys += 1\n",
    "            downhillStart = False\n",
    "            downhillEnd = False\n",
    "    return valleys\n",
    "\n",
    "if __name__ == '__main__':\n",
    "    n = int(input())\n",
    "    s = input()\n",
    "    print(countingValleys(n, s))"
   ]
  }
 ],
 "metadata": {
  "kernelspec": {
   "display_name": "Python 3",
   "language": "python",
   "name": "python3"
  },
  "language_info": {
   "codemirror_mode": {
    "name": "ipython",
    "version": 3
   },
   "file_extension": ".py",
   "mimetype": "text/x-python",
   "name": "python",
   "nbconvert_exporter": "python",
   "pygments_lexer": "ipython3",
   "version": "3.7.0"
  }
 },
 "nbformat": 4,
 "nbformat_minor": 2
}
