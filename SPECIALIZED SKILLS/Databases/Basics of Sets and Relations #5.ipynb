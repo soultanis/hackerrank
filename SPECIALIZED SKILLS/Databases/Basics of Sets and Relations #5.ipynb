{
 "cells": [
  {
   "cell_type": "markdown",
   "metadata": {},
   "source": [
    "# Basics of Sets and Relations #5\n",
    "\n",
    "## Task\n",
    "Consider the following data table named Student.\n",
    "```\n",
    "Student Name    Number  Sex  \n",
    "Ben             3412    M  \n",
    "Dan             1234    M  \n",
    "Nel             2341    F  \n",
    "```\n",
    "What is the count of rows returned in the following relational selection? \n",
    "\n",
    "$σ_{Number<3000} (Student)$\n",
    "\n",
    "## Output Format\n",
    "Only enter the correct integer in the answering box. Do not include any extra spaces, tabs or newlines."
   ]
  },
  {
   "cell_type": "code",
   "execution_count": 15,
   "metadata": {},
   "outputs": [],
   "source": [
    "2"
   ]
  }
 ],
 "metadata": {
  "kernelspec": {
   "display_name": "Python 3",
   "language": "python",
   "name": "python3"
  },
  "language_info": {
   "codemirror_mode": {
    "name": "ipython",
    "version": 3
   },
   "file_extension": ".py",
   "mimetype": "text/x-python",
   "name": "python",
   "nbconvert_exporter": "python",
   "pygments_lexer": "ipython3",
   "version": "3.7.2"
  }
 },
 "nbformat": 4,
 "nbformat_minor": 2
}
