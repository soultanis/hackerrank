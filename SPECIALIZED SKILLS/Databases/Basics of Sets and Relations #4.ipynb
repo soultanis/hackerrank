{
 "cells": [
  {
   "cell_type": "markdown",
   "metadata": {},
   "source": [
    "# Basics of Sets and Relations #4\n",
    "\n",
    "## Task\n",
    "You are given two sets. \n",
    "Set A = {1,2,3,4,5,6} \n",
    "Set B = {2,3,4,5,6,7,8}\n",
    "\n",
    "What is the total number of ordered pairs present in the Cartesian Product $A \\times B$?\n",
    "\n",
    "## Output Format\n",
    "Only enter the correct integer in the answering box. Do not include any extra spaces, tabs or newlines."
   ]
  },
  {
   "cell_type": "code",
   "execution_count": 15,
   "metadata": {},
   "outputs": [],
   "source": [
    "42"
   ]
  }
 ],
 "metadata": {
  "kernelspec": {
   "display_name": "Python 3",
   "language": "python",
   "name": "python3"
  },
  "language_info": {
   "codemirror_mode": {
    "name": "ipython",
    "version": 3
   },
   "file_extension": ".py",
   "mimetype": "text/x-python",
   "name": "python",
   "nbconvert_exporter": "python",
   "pygments_lexer": "ipython3",
   "version": "3.7.2"
  }
 },
 "nbformat": 4,
 "nbformat_minor": 2
}
