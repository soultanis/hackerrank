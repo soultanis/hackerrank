{
 "cells": [
  {
   "cell_type": "markdown",
   "metadata": {},
   "source": [
    "# Basics of Sets and Relations #6\n",
    "\n",
    "## Task\n",
    "Consider the following data table named Student.\n",
    "```\n",
    "Name                Number  Sex  \n",
    "Nina                3412    F \n",
    "Mike                1234    M  \n",
    "Nelson              2341    F  \n",
    "```\n",
    "What is the count of attributes (columns) returned in the following projection? \n",
    "\n",
    "$π_{Name, Number}(Student)$\n",
    "\n",
    "\n",
    "## Output Format\n",
    "Only enter the correct integer in the answering box. Do not include any extra spaces, tabs or newlines."
   ]
  },
  {
   "cell_type": "code",
   "execution_count": 15,
   "metadata": {},
   "outputs": [],
   "source": [
    "2"
   ]
  }
 ],
 "metadata": {
  "kernelspec": {
   "display_name": "Python 3",
   "language": "python",
   "name": "python3"
  },
  "language_info": {
   "codemirror_mode": {
    "name": "ipython",
    "version": 3
   },
   "file_extension": ".py",
   "mimetype": "text/x-python",
   "name": "python",
   "nbconvert_exporter": "python",
   "pygments_lexer": "ipython3",
   "version": "3.7.2"
  }
 },
 "nbformat": 4,
 "nbformat_minor": 2
}
