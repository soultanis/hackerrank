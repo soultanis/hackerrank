{
 "cells": [
  {
   "cell_type": "markdown",
   "metadata": {},
   "source": [
    "# Python If-Else\n",
    "## Task\n",
    "Given an integer, $n$, perform the following conditional actions:\n",
    "- If $n$ is odd, print ```Weird```\n",
    "- If $n$ is even and in the inclusive range of $2$ to $5$, print ```Not Weird```\n",
    "- If $n$ is even and in the inclusive range of $6$ to $20$, ```print Weird```\n",
    "- If $n$ is even and greater than $20$, print ```Not Weird```\n",
    "\n",
    "## Output Format\n",
    "Print ```Weird``` if the number is weird; otherwise, print ```Not Weird```."
   ]
  },
  {
   "cell_type": "code",
   "execution_count": 2,
   "metadata": {},
   "outputs": [
    {
     "name": "stdin",
     "output_type": "stream",
     "text": [
      " 69\n"
     ]
    },
    {
     "name": "stdout",
     "output_type": "stream",
     "text": [
      "Weird\n"
     ]
    }
   ],
   "source": [
    "def isNWeird(N):\n",
    "    if N%2 == 1:\n",
    "        print('Weird')\n",
    "    elif (N%2 == 0) and (((N>=2) and (N<=5)) or (N>20)):\n",
    "        print('Not Weird')\n",
    "    else:\n",
    "        print('Weird')\n",
    "    return\n",
    "\n",
    "if __name__ == '__main__':\n",
    "    N = int(input())\n",
    "    N = isNWeird(N)"
   ]
  }
 ],
 "metadata": {
  "kernelspec": {
   "display_name": "Python 3",
   "language": "python",
   "name": "python3"
  },
  "language_info": {
   "codemirror_mode": {
    "name": "ipython",
    "version": 3
   },
   "file_extension": ".py",
   "mimetype": "text/x-python",
   "name": "python",
   "nbconvert_exporter": "python",
   "pygments_lexer": "ipython3",
   "version": "3.7.0"
  }
 },
 "nbformat": 4,
 "nbformat_minor": 2
}
