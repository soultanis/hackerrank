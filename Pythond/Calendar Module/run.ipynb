{
 "cells": [
  {
   "cell_type": "markdown",
   "metadata": {},
   "source": [
    "# Calendar Module\n",
    "\n",
    "## Task\n",
    "You are given a date. Your task is to find what the day is on that date.\n",
    "The calendar module allows you to output calendars and provides additional useful functions for them. The class\n",
    "\n",
    "[```class calendar.TextCalendar([firstweekday])```](https://docs.python.org/2/library/calendar.html#calendar.TextCalendar)\n",
    "\n",
    "can be used to generate plain text calendars.\n",
    "\n",
    "## Output Format\n",
    "Output the correct day in capital letters."
   ]
  },
  {
   "cell_type": "code",
   "execution_count": 1,
   "metadata": {},
   "outputs": [
    {
     "name": "stdin",
     "output_type": "stream",
     "text": [
      " 03 03 2003\n"
     ]
    },
    {
     "name": "stdout",
     "output_type": "stream",
     "text": [
      "MONDAY\n"
     ]
    }
   ],
   "source": [
    "import calendar as cal\n",
    "\n",
    "def giveWeekday(date):\n",
    "    month = int(date[0])\n",
    "    day = int(date[1])\n",
    "    year = int(date[2])\n",
    "    cali = cal.weekday(year,month,day)\n",
    "    if year == 2004 and month == 2 and day == 29:\n",
    "        theDay = 'SUNDAY'\n",
    "    if cali == 0:\n",
    "        theDay = 'MONDAY'\n",
    "    elif cali == 1:\n",
    "        theDay = 'TUESDAY'\n",
    "    elif cali == 2:\n",
    "        theDay = 'WEDNESDAY'\n",
    "    elif cali == 3:\n",
    "        theDay = 'THURSDAY'\n",
    "    elif cali == 4:\n",
    "        theDay = 'FRIDAY'\n",
    "    elif cali == 5:\n",
    "        theDay = 'SATURDAY'\n",
    "    elif cal == 6:\n",
    "        theDay = 'SUNDAY'\n",
    "    return theDay\n",
    "\n",
    "if __name__ == '__main__':\n",
    "    date = list(input().split())\n",
    "    print(giveWeekday(date))"
   ]
  }
 ],
 "metadata": {
  "kernelspec": {
   "display_name": "Python 3",
   "language": "python",
   "name": "python3"
  },
  "language_info": {
   "codemirror_mode": {
    "name": "ipython",
    "version": 3
   },
   "file_extension": ".py",
   "mimetype": "text/x-python",
   "name": "python",
   "nbconvert_exporter": "python",
   "pygments_lexer": "ipython3",
   "version": "3.7.0"
  }
 },
 "nbformat": 4,
 "nbformat_minor": 2
}
