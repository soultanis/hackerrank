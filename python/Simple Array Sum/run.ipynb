{
 "cells": [
  {
   "cell_type": "markdown",
   "metadata": {},
   "source": [
    "# Simple Array Sum\n",
    "## Task\n",
    "Given an array of integers, find the sum of its elements.\n",
    "\n",
    "For example, if the array $ar = [1,2,3]$, $1+2+3 = 6$ , so return $6$.\n",
    "\n",
    "## Output Format\n",
    "rint the sum of the array's elements as a single integer."
   ]
  },
  {
   "cell_type": "code",
   "execution_count": 11,
   "metadata": {},
   "outputs": [
    {
     "name": "stdin",
     "output_type": "stream",
     "text": [
      " 6\n",
      " 1 2 3 4 10 11\n"
     ]
    },
    {
     "name": "stdout",
     "output_type": "stream",
     "text": [
      "31\n"
     ]
    }
   ],
   "source": [
    "import os\n",
    "import sys\n",
    "\n",
    "def simpleArraySum(ar):\n",
    "    sum = 0\n",
    "    for i in range(ar_count):\n",
    "        sum += ar[i]\n",
    "    return sum\n",
    "\n",
    "if __name__ == '__main__':\n",
    "    ar_count = int(input())\n",
    "    ar = list(map(int, input().rstrip().split()))\n",
    "    print(simpleArraySum(ar))"
   ]
  }
 ],
 "metadata": {
  "kernelspec": {
   "display_name": "Python 3",
   "language": "python",
   "name": "python3"
  },
  "language_info": {
   "codemirror_mode": {
    "name": "ipython",
    "version": 3
   },
   "file_extension": ".py",
   "mimetype": "text/x-python",
   "name": "python",
   "nbconvert_exporter": "python",
   "pygments_lexer": "ipython3",
   "version": "3.7.0"
  }
 },
 "nbformat": 4,
 "nbformat_minor": 2
}
