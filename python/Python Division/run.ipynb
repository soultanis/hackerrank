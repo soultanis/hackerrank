{
 "cells": [
  {
   "cell_type": "markdown",
   "metadata": {},
   "source": [
    "# Python: Division\n",
    "\n",
    "## Task\n",
    "Read two integers and print two lines. The first line should contain integer division,  $a//b$. The second line should contain float division, $a/b$.\n",
    "You don't need to perform any rounding or formatting operations.\n",
    "\n",
    "## Output Format\n",
    "Print the two lines as described above."
   ]
  },
  {
   "cell_type": "code",
   "execution_count": 1,
   "metadata": {},
   "outputs": [
    {
     "name": "stdin",
     "output_type": "stream",
     "text": [
      " 5\n",
      " 3\n"
     ]
    },
    {
     "name": "stdout",
     "output_type": "stream",
     "text": [
      "1\n",
      "1.6666666666666667\n"
     ]
    }
   ],
   "source": [
    "def printIt(a,b):\n",
    "    c1 = a//b\n",
    "    c2 = a/b\n",
    "    print(c1)\n",
    "    print(c2)\n",
    "    return\n",
    "\n",
    "if __name__ == '__main__':\n",
    "    a = int(input())\n",
    "    b = int(input())\n",
    "    printIt(a,b)"
   ]
  }
 ],
 "metadata": {
  "kernelspec": {
   "display_name": "Python 3",
   "language": "python",
   "name": "python3"
  },
  "language_info": {
   "codemirror_mode": {
    "name": "ipython",
    "version": 3
   },
   "file_extension": ".py",
   "mimetype": "text/x-python",
   "name": "python",
   "nbconvert_exporter": "python",
   "pygments_lexer": "ipython3",
   "version": "3.7.0"
  }
 },
 "nbformat": 4,
 "nbformat_minor": 2
}
