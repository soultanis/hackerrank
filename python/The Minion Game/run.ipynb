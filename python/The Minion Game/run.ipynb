{
 "cells": [
  {
   "cell_type": "markdown",
   "metadata": {},
   "source": [
    "# The Minion Game\n",
    "## Task\n",
    "Both players are given the same string, $S$.\n",
    "Both players have to make substrings using the letters of the string $S$.\n",
    "\n",
    "__Stuart__ has to make words starting with __consonants__.\n",
    "\n",
    "__Kevin__ has to make words starting with __vowels__. \n",
    "\n",
    "The game ends when both players have made all possible substrings. A player gets $+1$ point for each occurrence of the substring in the string $S$. A single line of input containing the string $S$. __The string $S$ will contain only uppercase letters: $[A-Z]$ .__\n",
    "\n",
    "![banana example](banana.png)\n",
    "\n",
    "## Output Format\n",
    "The name of the winner and their score separated by a space, ```Stuard 12```.\n",
    "\n",
    "If the game is a draw, print ```Draw```."
   ]
  },
  {
   "cell_type": "code",
   "execution_count": 7,
   "metadata": {},
   "outputs": [
    {
     "name": "stdin",
     "output_type": "stream",
     "text": [
      " AAL\n"
     ]
    },
    {
     "name": "stdout",
     "output_type": "stream",
     "text": [
      "Kevin 5\n"
     ]
    }
   ],
   "source": [
    "def minion_game(s):\n",
    "    n = len(s)\n",
    "    # consonents\n",
    "    score_kevin = 0\n",
    "    # vowels\n",
    "    score_stuart = 0\n",
    "\n",
    "    for i in range(n):\n",
    "        if s[i] in ('A', 'E', 'I', 'O', 'U'):\n",
    "            score_kevin += n - i\n",
    "        else:\n",
    "            score_stuart += n - i\n",
    "\n",
    "    if score_kevin > score_stuart:\n",
    "        print('Kevin', score_kevin)\n",
    "    elif score_stuart > score_kevin:\n",
    "        print('Stuart', score_stuart)\n",
    "    else:\n",
    "        print('Draw')\n",
    "\n",
    "if __name__ == '__main__':\n",
    "    s = input()\n",
    "    minion_game(s)"
   ]
  },
  {
   "cell_type": "code",
   "execution_count": null,
   "metadata": {},
   "outputs": [],
   "source": []
  }
 ],
 "metadata": {
  "kernelspec": {
   "display_name": "Python 3",
   "language": "python",
   "name": "python3"
  },
  "language_info": {
   "codemirror_mode": {
    "name": "ipython",
    "version": 3
   },
   "file_extension": ".py",
   "mimetype": "text/x-python",
   "name": "python",
   "nbconvert_exporter": "python",
   "pygments_lexer": "ipython3",
   "version": "3.7.0"
  }
 },
 "nbformat": 4,
 "nbformat_minor": 2
}
