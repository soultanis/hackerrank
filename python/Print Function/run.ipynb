{
 "cells": [
  {
   "cell_type": "markdown",
   "metadata": {},
   "source": [
    "# Print Function\n",
    "## Task\n",
    "Read an integer $N$.\n",
    "Without using any string methods, try to print the following:\n",
    "\n",
    "$123...N$\n",
    "\n",
    "Note that \"...\" represents the values in between.\n",
    "\n",
    "## Output Format\n",
    "Integer."
   ]
  },
  {
   "cell_type": "code",
   "execution_count": 1,
   "metadata": {},
   "outputs": [
    {
     "name": "stdin",
     "output_type": "stream",
     "text": [
      " 12\n"
     ]
    },
    {
     "name": "stdout",
     "output_type": "stream",
     "text": [
      "123456789101112\n"
     ]
    }
   ],
   "source": [
    "def printIt(n):\n",
    "    m = 0\n",
    "    for x in range(1,n+1):\n",
    "        if x < 10:\n",
    "            m = m*10 + x\n",
    "        elif x < 100:\n",
    "            m = m*100 + x\n",
    "        elif x < 1000:\n",
    "            m = m*1000 + x\n",
    "    return m\n",
    "if __name__ == '__main__':\n",
    "    n = int(input())\n",
    "    print(printIt(n))"
   ]
  },
  {
   "cell_type": "code",
   "execution_count": null,
   "metadata": {},
   "outputs": [],
   "source": []
  }
 ],
 "metadata": {
  "kernelspec": {
   "display_name": "Python 3",
   "language": "python",
   "name": "python3"
  },
  "language_info": {
   "codemirror_mode": {
    "name": "ipython",
    "version": 3
   },
   "file_extension": ".py",
   "mimetype": "text/x-python",
   "name": "python",
   "nbconvert_exporter": "python",
   "pygments_lexer": "ipython3",
   "version": "3.7.0"
  }
 },
 "nbformat": 4,
 "nbformat_minor": 2
}
